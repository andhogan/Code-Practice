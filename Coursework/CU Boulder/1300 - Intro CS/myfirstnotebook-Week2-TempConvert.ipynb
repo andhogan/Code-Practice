{
 "cells": [
  {
   "cell_type": "markdown",
   "id": "c069e0ac-0168-4a03-a52e-a741b6a042da",
   "metadata": {},
   "source": [
    "# Andrew's First JupyterLab Notebook"
   ]
  },
  {
   "cell_type": "markdown",
   "id": "a72059ea-79fe-42b0-a3d7-50ca1b0719aa",
   "metadata": {},
   "source": [
    "by Andrew Hogan"
   ]
  },
  {
   "cell_type": "markdown",
   "id": "3d2c71ca-0e8b-4fa8-b0b0-69414f8a834e",
   "metadata": {},
   "source": [
    "## My Code Notes\n",
    "\n",
    "### Temperature Converter\n",
    "\n",
    "This program takes input from the user, first for degrees Fahrenheit to be converted to Celsius, and then vice versa. These values are printed in the terminal for the user to see. \n",
    "\n",
    "The code begins with newly defined functions that return their respective values. Using f-strings, these values are expressed and printed in the terminal in a format the user can distinguish. "
   ]
  },
  {
   "cell_type": "code",
   "execution_count": 1,
   "id": "b549b61a-ac12-49b5-9d31-10ee73d13b23",
   "metadata": {},
   "outputs": [
    {
     "name": "stdin",
     "output_type": "stream",
     "text": [
      "Enter a temperature in degrees F:  91\n"
     ]
    },
    {
     "name": "stdout",
     "output_type": "stream",
     "text": [
      "91 degrees F = 32.78 degrees C.\n"
     ]
    },
    {
     "name": "stdin",
     "output_type": "stream",
     "text": [
      "Enter a temperature in degrees C:  17\n"
     ]
    },
    {
     "name": "stdout",
     "output_type": "stream",
     "text": [
      "17 degrees C = 62.60 degrees F.\n"
     ]
    }
   ],
   "source": [
    "def CelToFar(C):\n",
    "    \"\"\"Converts degrees Celsius to degrees Fahrenheit.\"\"\"\n",
    "    F = (C * 9/5) + 32\n",
    "    return F\n",
    "\n",
    "def FarToCel(F):\n",
    "    \"\"\"Converts degrees Fahrenheit to degrees Celsius.\"\"\"\n",
    "    C = (F - 32) * 5/9\n",
    "    return C\n",
    "\n",
    "F = input(\"Enter a temperature in degrees F: \")\n",
    "\n",
    "C = FarToCel(float(F))\n",
    "\n",
    "print(f'{F} degrees F = {round(C, 2)} degrees C.')\n",
    "\n",
    "C = input(\"Enter a temperature in degrees C: \")\n",
    "\n",
    "F = CelToFar(float(C))\n",
    "\n",
    "print (f'{C} degrees C = {F:.2f} degrees F.')\n"
   ]
  },
  {
   "cell_type": "markdown",
   "id": "5441a59a-0826-4ab3-bfff-da09109136d4",
   "metadata": {},
   "source": [
    "### JupyterLab Notes\n",
    "\n",
    "During my time using the Jupyter Notebook, the shortcuts have made my work pace very efficient. I love being able to seamlessly enter and exit code blocks eith **Esc** and creating new cells with **A** and **B**. \n",
    "\n",
    "**Ctrl/Shift+Enter** allows me to execute code quickly, and hitting **Enter** again lets me jump right back into the code block I was working on. If all else fails, deleting with **D+D** is beneficial. Many of these shortcuts allow me to complete my work without touching my mouse over and over. \n",
    "\n",
    "The markdown tips are helpful, too, again for the enjoyment of not having to move my mouse every time I need to **bolden** or *italicize* my notes. "
   ]
  }
 ],
 "metadata": {
  "kernelspec": {
   "display_name": "Python 3 (ipykernel)",
   "language": "python",
   "name": "python3"
  },
  "language_info": {
   "codemirror_mode": {
    "name": "ipython",
    "version": 3
   },
   "file_extension": ".py",
   "mimetype": "text/x-python",
   "name": "python",
   "nbconvert_exporter": "python",
   "pygments_lexer": "ipython3",
   "version": "3.9.6"
  }
 },
 "nbformat": 4,
 "nbformat_minor": 5
}
