{
 "cells": [
  {
   "cell_type": "markdown",
   "id": "e0b90d4b-79f6-4a5e-aa77-a9500b045971",
   "metadata": {},
   "source": [
    "# Ch 3. Norm and Distance"
   ]
  },
  {
   "cell_type": "markdown",
   "id": "26dcada1-2ec3-456a-b08d-10494a6c727b",
   "metadata": {},
   "source": [
    "### Imports"
   ]
  },
  {
   "cell_type": "code",
   "execution_count": 2,
   "id": "47ce4df7-a41c-4cfc-9a6f-71dd06611326",
   "metadata": {},
   "outputs": [],
   "source": [
    "import numpy as np\n",
    "import matplotlib.pyplot as plt\n",
    "import math\n",
    "import time"
   ]
  },
  {
   "cell_type": "markdown",
   "id": "f36a097b-cf2d-4605-9d21-500fef64deb1",
   "metadata": {},
   "source": [
    "### 3.1 Norm\n",
    "\n",
    "The norm *||x||* can be computed using **np.linalg.norm(x)**.\n",
    "\n",
    "The np.linalg.norm function is contained in the numpy package linalg."
   ]
  },
  {
   "cell_type": "code",
   "execution_count": 3,
   "id": "6507a792-c875-4cc0-959a-5ffdba2cbbf4",
   "metadata": {},
   "outputs": [
    {
     "name": "stdout",
     "output_type": "stream",
     "text": [
      "3.0\n",
      "3.0\n",
      "3.0\n"
     ]
    }
   ],
   "source": [
    "### 3 methods for calculating the norm:\n",
    "\n",
    "#1\n",
    "x = np.array([2,-1,2]) \n",
    "print(np.linalg.norm(x))\n",
    "\n",
    "#2\n",
    "print(np.sqrt(np.inner(x,x)))\n",
    "\n",
    "#3\n",
    "print((sum(x**2)**0.5))"
   ]
  },
  {
   "cell_type": "markdown",
   "id": "ba4bd133-9756-416e-b46b-ed555ed22840",
   "metadata": {},
   "source": [
    "#### Triangle Inequality\n",
    "\n",
    "*||x + y|| ≤ ||x|| + ||y||* \n",
    "\n",
    "for some specific values of x and y.\n",
    "\n",
    "We see that the RHS is larger than LHS.\n",
    "\n",
    "\"The norm of the sums is less than (or equal to) the sum of the norms.\""
   ]
  },
  {
   "cell_type": "code",
   "execution_count": 4,
   "id": "3dc22203-85cb-480a-8b50-930273edd490",
   "metadata": {},
   "outputs": [
    {
     "name": "stdout",
     "output_type": "stream",
     "text": [
      "LHS: 3.4643689451895474\n",
      "RHS: 3.8216647049779766\n"
     ]
    }
   ],
   "source": [
    "x = np.random.random(10) \n",
    "y = np.random.random(10) \n",
    "LHS = np.linalg.norm(x+y) \n",
    "RHS = np.linalg.norm(x) + np.linalg.norm(y) \n",
    "print('LHS:', LHS)\n",
    "print('RHS:', RHS)"
   ]
  },
  {
   "cell_type": "markdown",
   "id": "56f76c15-3dc4-4128-b6b1-4233b21417db",
   "metadata": {},
   "source": [
    "### 3.4 Angle"
   ]
  },
  {
   "cell_type": "code",
   "execution_count": 5,
   "id": "0e8dff87-92b2-42ca-9f30-a6bc509dbbf4",
   "metadata": {},
   "outputs": [
    {
     "name": "stdout",
     "output_type": "stream",
     "text": [
      "1.5707963267948966\n"
     ]
    }
   ],
   "source": [
    "#Define angle function, which returns radians ang = lambda x,y : np.arccos(x @ y / (np.linalg.norm(x)*np.linalg.norm(y)))\n",
    "ang = lambda x,y : np.arccos(x @ y /(np.linalg.norm(x)*np.linalg.norm(y)))\n",
    "a = np.array([1,0]) \n",
    "b = np.array([0,1])\n",
    "print(ang(a,b))"
   ]
  },
  {
   "cell_type": "code",
   "execution_count": 6,
   "id": "14d98943-5774-4e65-8d72-825661038df1",
   "metadata": {},
   "outputs": [
    {
     "name": "stdout",
     "output_type": "stream",
     "text": [
      "90.0\n"
     ]
    }
   ],
   "source": [
    "#Get angle in degrees \n",
    "print(ang(a,b) * (360/(2*np.pi)))"
   ]
  },
  {
   "cell_type": "markdown",
   "id": "bf240752-f805-45ff-af03-4012233eebb6",
   "metadata": {},
   "source": [
    "### Quiz"
   ]
  },
  {
   "cell_type": "code",
   "execution_count": 7,
   "id": "900b613e-1b29-452b-86c9-4e4cd6def8cb",
   "metadata": {},
   "outputs": [
    {
     "name": "stdout",
     "output_type": "stream",
     "text": [
      "34\n",
      "2.8284271247461903\n",
      "12.041594578792296\n"
     ]
    }
   ],
   "source": [
    "u = np.array([2, 2])\n",
    "v = np.array([9, 8])\n",
    "\n",
    "u_norm = np.linalg.norm(u)\n",
    "v_norm = np.linalg.norm(v)\n",
    "\n",
    "print(u @ v)\n",
    "print(u_norm)\n",
    "print(v_norm)"
   ]
  },
  {
   "cell_type": "code",
   "execution_count": 8,
   "id": "ba0ab5c0-1055-4a0b-87db-12080e6dc712",
   "metadata": {},
   "outputs": [
    {
     "data": {
      "text/plain": [
       "0.05875582271572511"
      ]
     },
     "execution_count": 8,
     "metadata": {},
     "output_type": "execute_result"
    }
   ],
   "source": [
    "np.arccos((u@v)/(u_norm*v_norm))"
   ]
  },
  {
   "cell_type": "code",
   "execution_count": null,
   "id": "9b4f356a-69b1-4470-8a6b-c64b32e54f5e",
   "metadata": {},
   "outputs": [],
   "source": []
  }
 ],
 "metadata": {
  "kernelspec": {
   "display_name": "Python 3 (ipykernel)",
   "language": "python",
   "name": "python3"
  },
  "language_info": {
   "codemirror_mode": {
    "name": "ipython",
    "version": 3
   },
   "file_extension": ".py",
   "mimetype": "text/x-python",
   "name": "python",
   "nbconvert_exporter": "python",
   "pygments_lexer": "ipython3",
   "version": "3.9.6"
  }
 },
 "nbformat": 4,
 "nbformat_minor": 5
}
