{
 "cells": [
  {
   "cell_type": "markdown",
   "id": "7f127f8b-21e4-4bee-8df7-21a637365c37",
   "metadata": {},
   "source": [
    "#### Setup\n",
    "\n",
    "Import **NumPY**"
   ]
  },
  {
   "cell_type": "code",
   "execution_count": 1,
   "id": "dd45cff7-b5f0-495d-b0fb-5cc3a89f4912",
   "metadata": {},
   "outputs": [],
   "source": [
    "import numpy as np #Import NumPY and declare it using an alias"
   ]
  },
  {
   "cell_type": "markdown",
   "id": "9443db5e-b5ba-4005-b9f2-f3f511cdf7a5",
   "metadata": {},
   "source": [
    "## Matrices (Ch6)\n",
    "\n",
    "**np.array()** takes several arrays/vectors as arguments:\n",
    "\n",
    "**A** = np.array( **[ outer brace 1** [inner braces: **row1**], [inner braces: **row2**] **outer brace 2]**)"
   ]
  },
  {
   "cell_type": "code",
   "execution_count": 2,
   "id": "d72a21e4-7d3a-4e06-adcb-b00b5cdcd405",
   "metadata": {},
   "outputs": [
    {
     "name": "stdout",
     "output_type": "stream",
     "text": [
      "(3, 4)\n",
      "m: 3\n",
      "n: 4\n"
     ]
    }
   ],
   "source": [
    "A = np.array([[0, 1, -2, 1], [1, 2, 3, 4], [4, 2, 3, 1]])\n",
    "#A.shape returns a tuple of 2 values for the dimensions of A, m x n, as (m, n)\n",
    "\n",
    "print(A.shape)\n",
    "\n",
    "m, n = A.shape\n",
    "print('m:', m)\n",
    "print('n:', n)\n"
   ]
  },
  {
   "cell_type": "markdown",
   "id": "1f8a81c8-effc-4be4-91dd-891703d58c52",
   "metadata": {},
   "source": [
    "#### Indexing Entries\n",
    "\n",
    "Return the *i*th row and *j*th column entry of matrix **A** using A[i-1, j-1], since Python starts indexing from 0:"
   ]
  },
  {
   "cell_type": "code",
   "execution_count": 3,
   "id": "3daecadc-15c9-483a-867c-b185548efaad",
   "metadata": {},
   "outputs": [
    {
     "data": {
      "text/plain": [
       "-2"
      ]
     },
     "execution_count": 3,
     "metadata": {},
     "output_type": "execute_result"
    }
   ],
   "source": [
    "A[0, 2] #returns A_1,3, which should be -2"
   ]
  },
  {
   "cell_type": "code",
   "execution_count": 4,
   "id": "8250fda6-ccf6-40d4-b996-c90a27b05f1a",
   "metadata": {},
   "outputs": [
    {
     "data": {
      "text/plain": [
       "array([[0, 1, 7, 1],\n",
       "       [1, 2, 3, 4],\n",
       "       [4, 2, 3, 1]])"
      ]
     },
     "execution_count": 4,
     "metadata": {},
     "output_type": "execute_result"
    }
   ],
   "source": [
    "A[0, 2] = 7 #assigns A_1,3 with 7\n",
    "A"
   ]
  },
  {
   "cell_type": "markdown",
   "id": "d767d91b-39df-4703-9b05-82d4c79f2445",
   "metadata": {},
   "source": [
    "#### Row and Column\n",
    "\n",
    "Depending on the input for **np.array**, we can form either a vector or a 2-dimensional matrix. If you're aiming for the matrix, remember the outer brackets:"
   ]
  },
  {
   "cell_type": "code",
   "execution_count": 5,
   "id": "711122e7-9966-48d5-bbca-663ff309090f",
   "metadata": {},
   "outputs": [
    {
     "name": "stdout",
     "output_type": "stream",
     "text": [
      "dimensions of a: (3,)\n",
      "dimensions of b: (1, 3)\n",
      "dimensions of c: (3, 1)\n"
     ]
    }
   ],
   "source": [
    " # a: 3-vector\n",
    "a = np.array([2, 1, 3])\n",
    "print('dimensions of a:', a.shape)\n",
    "\n",
    " # b: 1 x 3 matrix (m x n)\n",
    "b = np.array([[1, 100, 3]]) # 1 row, 3 columns\n",
    "print('dimensions of b:', b.shape)\n",
    "\n",
    " # c: 3 x 1 matrix (m x n)\n",
    "c = np.array([[3],[100],[1]]) # 3 rows, 1 column\n",
    "print('dimensions of c:', c.shape)"
   ]
  },
  {
   "cell_type": "markdown",
   "id": "02726d7a-2c26-4dbe-a4c7-3cd98500cf98",
   "metadata": {},
   "source": [
    "#### Slicing and submatrices\n",
    "\n",
    "Using appropriate indices, we can extract submatrices:\n",
    "\n",
    "For example: A[0:2, 2:4] extracts:\n",
    "\n",
    "rows [1, 3) (\"first row inclusive up to 3rd row exclusive\", so rows 1 & 2)\n",
    "\n",
    "cols [2, 4) (\"3rd column inclusive up to 5th column exclusive\", so cols 3 & 4, there is no 5th col)"
   ]
  },
  {
   "cell_type": "code",
   "execution_count": 6,
   "id": "a0fcf58a-8b17-4409-af33-1e9a3df781df",
   "metadata": {},
   "outputs": [
    {
     "name": "stdout",
     "output_type": "stream",
     "text": [
      "[[0 1 7 1]\n",
      " [1 2 3 4]\n",
      " [4 2 3 1]]\n"
     ]
    }
   ],
   "source": [
    "print(A)"
   ]
  },
  {
   "cell_type": "code",
   "execution_count": 7,
   "id": "54b8668e-4c31-4de5-835e-793cf80e4c06",
   "metadata": {},
   "outputs": [
    {
     "name": "stdout",
     "output_type": "stream",
     "text": [
      "Submatrix A[0:2, 2:4]:\n",
      " [[7 1]\n",
      " [3 4]]\n",
      "dimension of submatrix:\n",
      " A[0:2, 2:4]:  (2, 2)\n"
     ]
    }
   ],
   "source": [
    "print('Submatrix A[0:2, 2:4]:\\n', A[0:2, 2:4])\n",
    "print('dimension of submatrix:\\n A[0:2, 2:4]: ', A[0:2, 2:4].shape)"
   ]
  },
  {
   "cell_type": "markdown",
   "id": "9e6be6fa-0cb7-4b27-bd66-7c90e3a2be79",
   "metadata": {},
   "source": [
    "#### Block Matrices\n",
    "\n"
   ]
  },
  {
   "cell_type": "code",
   "execution_count": 8,
   "id": "b793972e-3b47-46f4-81f3-ca401ffeb305",
   "metadata": {},
   "outputs": [
    {
     "name": "stdout",
     "output_type": "stream",
     "text": [
      "[[ 0  2  3]\n",
      " [-1  2  5]]\n",
      "(2, 3)\n",
      "[[ 0  2  3 -1  2  5]]\n",
      "(1, 6)\n"
     ]
    }
   ],
   "source": [
    "B = np.array([0, 2, 3])\n",
    "C = np.array([-1, 2, 5])\n",
    "\n",
    "X = np.block([[B], [C]])\n",
    "print(X)\n",
    "print(X.shape)\n",
    "Y = np.block([[B, C]])\n",
    "print(Y)\n",
    "print(Y.shape)"
   ]
  },
  {
   "cell_type": "markdown",
   "id": "554bcc45-4c52-41a0-a852-30fa1c3b86c3",
   "metadata": {},
   "source": [
    "## Zero and Identity Matrices (Ch 6.2)\n",
    "\n",
    "A zero matrix can be constructed using **np.zeros((m, n))**, where (m, n) is a 2-tuple.\n",
    "\n",
    "An identity matrix can be constructed using **np.identity(N)**. Identity matrices can only be square, so dimensions are **N x N**\n",
    "\n",
    "There's no technical term for a matrix consisting of all 1's, but one can be constructed using **np.ones((m, n))**"
   ]
  },
  {
   "cell_type": "code",
   "execution_count": 9,
   "id": "43c79de3-c114-49e8-a5cc-4c6f6c9ff636",
   "metadata": {},
   "outputs": [
    {
     "name": "stdout",
     "output_type": "stream",
     "text": [
      "Zero 3 x 2 matrix:\n",
      "[[0. 0.]\n",
      " [0. 0.]\n",
      " [0. 0.]]\n",
      "(3, 2) \n",
      "\n",
      "Identity 4 x 4 matrix:\n",
      "[[1. 0. 0. 0.]\n",
      " [0. 1. 0. 0.]\n",
      " [0. 0. 1. 0.]\n",
      " [0. 0. 0. 1.]]\n",
      "(4, 4) \n",
      "\n",
      "Ones 3 x 2 matrix:\n",
      "[[1. 1.]\n",
      " [1. 1.]\n",
      " [1. 1.]]\n",
      "(3, 2)\n"
     ]
    }
   ],
   "source": [
    "Z = np.zeros((3, 2))\n",
    "print('Zero 3 x 2 matrix:')\n",
    "print(Z)\n",
    "print(Z.shape, '\\n')\n",
    "\n",
    "I = np.identity(4)\n",
    "print('Identity 4 x 4 matrix:')\n",
    "print(I)\n",
    "print(I.shape, '\\n')\n",
    "\n",
    "O = np.ones((3, 2))\n",
    "print('Ones 3 x 2 matrix:')\n",
    "print(O)\n",
    "print(O.shape)"
   ]
  },
  {
   "cell_type": "markdown",
   "id": "3366be9d-f438-40cf-932e-b433d99ccd3e",
   "metadata": {},
   "source": [
    "### Diagonal Matrix\n",
    "\n",
    "In standard mathematical notation, **diag(1, 2, 3)** is a diagonal 3×3 matrix with diagonal entries 1, 2, 3. In Python, such a matrix can be created using **np.diag(D)**, where D is a square matrix"
   ]
  },
  {
   "cell_type": "code",
   "execution_count": 10,
   "id": "c5f6d8fe-57c0-4d18-a32f-d59b67318351",
   "metadata": {},
   "outputs": [
    {
     "name": "stdout",
     "output_type": "stream",
     "text": [
      "Original Matrix:\n",
      "[[1 3 5]\n",
      " [0 2 4]\n",
      " [9 8 3]] \n",
      "\n",
      "Diagonal Vector: \n",
      "D_11, D_22, D_33\n",
      "[1 2 3] \n",
      "\n",
      "[[1 0 0]\n",
      " [0 2 0]\n",
      " [0 0 3]]\n"
     ]
    }
   ],
   "source": [
    "D = np.array([[1, 3, 5],[0, 2, 4],[9, 8, 3]])\n",
    "print('Original Matrix:')\n",
    "print(D, '\\n')\n",
    "\n",
    "print('Diagonal Vector: \\nD_11, D_22, D_33')\n",
    "print(np.diag(D), '\\n')\n",
    "\n",
    "#We can construct a matrix with only the diagonals using the diag function again:\n",
    "print(np.diag(np.diag(D)))"
   ]
  },
  {
   "cell_type": "markdown",
   "id": "749a9ffe-86db-46f1-8862-a8b0accf7c26",
   "metadata": {},
   "source": [
    "### Random Matrices\n",
    "\n",
    "Random matrix entries are useful for later testing for linear independency between columns, and subsequently QR factorization and inverting matrices.\n",
    "\n",
    "**np.random.random((m, n))**"
   ]
  },
  {
   "cell_type": "code",
   "execution_count": 11,
   "id": "35950047-d219-402e-a0c3-01f6b2ec6f02",
   "metadata": {},
   "outputs": [
    {
     "name": "stdout",
     "output_type": "stream",
     "text": [
      "Random 2 x 3 matrix, R:\n",
      "[[0.13954606 0.97165476 0.14537371]\n",
      " [0.05623944 0.99595358 0.66045939]]\n",
      "(2, 3)\n"
     ]
    }
   ],
   "source": [
    "R = np.random.random((2, 3))\n",
    "print('Random 2 x 3 matrix, R:')\n",
    "print(R)\n",
    "print(R.shape)"
   ]
  },
  {
   "cell_type": "markdown",
   "id": "f6737d35-009c-4bf8-966f-0154b147b66a",
   "metadata": {},
   "source": [
    "## Transpose, addition, norm (Ch6.3)\n",
    "\n",
    "#### Transpose\n",
    "\n",
    "In Python, the transpose of A is given by **np.transpose(A)**, or **A.T** for succinctness."
   ]
  },
  {
   "cell_type": "code",
   "execution_count": 12,
   "id": "a25b969f-4d3c-4dc2-904a-1b99a0c7ffa0",
   "metadata": {},
   "outputs": [
    {
     "name": "stdout",
     "output_type": "stream",
     "text": [
      "[[0 1 7 1]\n",
      " [1 2 3 4]\n",
      " [4 2 3 1]]\n"
     ]
    }
   ],
   "source": [
    "print(A)"
   ]
  },
  {
   "cell_type": "code",
   "execution_count": 13,
   "id": "f94c127d-f051-45cc-8953-12e9ac29323a",
   "metadata": {},
   "outputs": [
    {
     "name": "stdout",
     "output_type": "stream",
     "text": [
      "[[0 1 4]\n",
      " [1 2 2]\n",
      " [7 3 3]\n",
      " [1 4 1]]\n"
     ]
    }
   ],
   "source": [
    "print(np.transpose(A))"
   ]
  },
  {
   "cell_type": "code",
   "execution_count": 14,
   "id": "11fd00e6-1506-48be-9149-cae8277e4a85",
   "metadata": {},
   "outputs": [
    {
     "name": "stdout",
     "output_type": "stream",
     "text": [
      "[[0 1 4]\n",
      " [1 2 2]\n",
      " [7 3 3]\n",
      " [1 4 1]]\n"
     ]
    }
   ],
   "source": [
    "print(A.T)"
   ]
  },
  {
   "cell_type": "markdown",
   "id": "c8da6184-42e0-40df-9b4c-e9a5589c51e3",
   "metadata": {},
   "source": [
    "#### Addition\n",
    "\n",
    "#### Norm\n",
    "\n",
    "* **skipping for now**"
   ]
  },
  {
   "cell_type": "markdown",
   "id": "9caf125a-269a-43d2-a4de-a555a0c6eee1",
   "metadata": {},
   "source": [
    "## Matrix-vector Multiplication (Ch6.4)\n",
    "\n",
    "In Python, matrix-vector mult. has the natural syntax *y = A @ x*\n",
    "\n",
    "Alternatively, we can use NumPy function **np.matmul(A, x)**, A is an *m x n* matrix, *x* is an *n*-vector, and the output vector *y* is an *m*-vector."
   ]
  },
  {
   "cell_type": "markdown",
   "id": "502ffa8a-33e7-466f-bc75-697814ab2566",
   "metadata": {},
   "source": [
    "## Matrix-Vector/Matrix Multiplication (Ch6.4, Ch10)\n",
    "\n",
    "When multiplying a Matrix and a Vector together, you should be thinking about this as simply Matrix-Matrix multiplication. After all, vectors and matrices are one in the same: you may have noticed by now that $n$-vectors are merely $n \\times 1$ matrices! This should simplify much of how we think about resultant matrix outputs.\n",
    "\n",
    "We've read that matrix multiplication *is not commutative*. This is because the dimensions of both matrices determine the dimensions of the output matrix. As you've read, to multiply two matrices together, the inner dimensions must match. In other words:\n",
    "\n",
    "A matrix, $A$, with dimensions $m \\times p$ can only be multiplied by another matrix, $B$, with dimensions $p \\times n$. Again, in other words: *The first matrix must have the same number of columns as rows of the second matrix*.\n",
    "\n",
    "Take the expression $y = Ax$.\n",
    "\n",
    "* $A$ is an ($m \\times n$) matrix.\n",
    "\n",
    "* $x$ is an $n$-vector, or an $n \\times 1$ matrix.\n",
    "\n",
    "We can now see this as a legal operation: We are multiplying an $m \\times n$ matrix with an $n \\times 1$ matrix:\n",
    "\n",
    "$m \\times (n * n) \\times 1$ --> inner dimensions are equal, and we will output a matrix with the outer dimensions.\n",
    "\n",
    "The output, $y$, is an $m \\times 1$ matrix, or an $m$-vector."
   ]
  },
  {
   "cell_type": "code",
   "execution_count": 20,
   "id": "aaedc94a-9da1-46cc-8ae3-e8a42f90bdda",
   "metadata": {
    "tags": []
   },
   "outputs": [
    {
     "name": "stdout",
     "output_type": "stream",
     "text": [
      "Multiplying Ax:\n",
      "A =\n",
      "[[1 2]\n",
      " [3 4]\n",
      " [5 6]]\n",
      "x =\n",
      "[2 3]\n",
      "y = A @ x = [ 8 18 28]\n"
     ]
    }
   ],
   "source": [
    "A = np.array([[1,2],[3,4], [5, 6]])\n",
    "x = np.array([2, 3])\n",
    "\n",
    "print('Multiplying Ax:')\n",
    "print('A =')\n",
    "print(A)\n",
    "print('x =')\n",
    "print(x)\n",
    "print('y = A @ x =', A@x)\n",
    "\n",
    "## Causes a value error. We are attempting to multiply (n x 1) * (m x n). \n",
    "## The inner dimensions do not match. This operation is illegal!\n",
    "# print(x @ A) "
   ]
  },
  {
   "cell_type": "markdown",
   "id": "3d44aa42-ada7-4005-b5c4-18ab1ec83f8b",
   "metadata": {
    "tags": []
   },
   "source": [
    "## Visualizing the Transpose\n",
    "\n",
    "Rows become columns:\n",
    "* First row becomes the first column in the transpose\n",
    "* Second row becomes the second column in the transpose\n",
    "* And so on...\n",
    "Notice that **diagonal entries stay the same**."
   ]
  },
  {
   "cell_type": "code",
   "execution_count": 25,
   "id": "029f943f-12f1-45f0-be50-4667d6fd3172",
   "metadata": {},
   "outputs": [
    {
     "name": "stdout",
     "output_type": "stream",
     "text": [
      "[2 3]\n",
      "[2 3]\n",
      "13\n"
     ]
    }
   ],
   "source": [
    "x = np.array([2, 3])\n",
    "x_t = x.T\n",
    "print(x)\n",
    "print(x_t)\n",
    "print(x_t@x)"
   ]
  },
  {
   "cell_type": "markdown",
   "id": "57c00723-e40e-4edc-a7a7-1ba404c0ea67",
   "metadata": {
    "tags": []
   },
   "source": [
    "#### Running Sum Matrix\n",
    "\n",
    "A running sum matrix is a lower triangular matrix, with elements on and below the diagonal equal to one."
   ]
  },
  {
   "cell_type": "code",
   "execution_count": 28,
   "id": "e8a2d290-c48f-4334-ac0e-8e28a8178195",
   "metadata": {},
   "outputs": [],
   "source": [
    "def running_sum(n):  # input takes int n, A running sum matrix is a square n x n matrix\n",
    "    import numpy as np  #in case this isnt already imported\n",
    "    S = np.zeros((n, n))\n",
    "    \n",
    "    #change every S_ij, where j <= i, to  1.\n",
    "    for i in range(n): #Traverse rows\n",
    "        for j in range(i + 1): #Traverse columns, going only as far as i does\n",
    "            S[i, j] = 1 \n",
    "    \n",
    "    return S"
   ]
  },
  {
   "cell_type": "code",
   "execution_count": 29,
   "id": "df5715ff-9613-4263-9c59-a1e1e2cd591a",
   "metadata": {},
   "outputs": [
    {
     "data": {
      "text/plain": [
       "array([[1., 0., 0., 0.],\n",
       "       [1., 1., 0., 0.],\n",
       "       [1., 1., 1., 0.],\n",
       "       [1., 1., 1., 1.]])"
      ]
     },
     "execution_count": 29,
     "metadata": {},
     "output_type": "execute_result"
    }
   ],
   "source": [
    "running_sum(4)"
   ]
  },
  {
   "cell_type": "markdown",
   "id": "8d2efe40-0a9d-4ea7-8b1c-fd99a49d84b8",
   "metadata": {},
   "source": [
    "## Matrix Inverses (Ch11)\n",
    "\n",
    "#### Left and right inverses (Ch11.1)\n",
    "\n"
   ]
  },
  {
   "cell_type": "code",
   "execution_count": 31,
   "id": "a3431e93-abff-4c3e-8a70-1f158900b8bc",
   "metadata": {},
   "outputs": [
    {
     "data": {
      "text/plain": [
       "array([[ 1.0000000e+00,  0.0000000e+00],\n",
       "       [-4.4408921e-16,  1.0000000e+00]])"
      ]
     },
     "execution_count": 31,
     "metadata": {},
     "output_type": "execute_result"
    }
   ],
   "source": [
    "A = np.array([[-3,-4],[4,6],[1,1]]) # tall matrix, only left inverses exist\n",
    "B = np.array([[-11,-10,16],[7, 8, -11]])/9 #a left inverse of A\n",
    "B @ A # close enough :)"
   ]
  },
  {
   "cell_type": "markdown",
   "id": "3b310eaa-7d14-4253-8316-a94f1651557a",
   "metadata": {},
   "source": [
    "#### Inverse (Ch11.2)\n",
    "\n",
    "If **A** is invertible, its inverse is given by **np.linalg.inv(A)**. You'll get an error if A is not invertible, or A is not square. \n",
    "\n",
    "Conditions for invertibility:\n",
    "* Invertible: If a matrix A is left-invertible and square, then it is also right-invertible\n",
    "* If A is left- and right-invertible, then the left and right inverse are unique and equal.\n",
    "    * Any left inverse of A is equal to any right inverse of A\n",
    "* Invertible matrices **must be square**\n"
   ]
  },
  {
   "cell_type": "code",
   "execution_count": 34,
   "id": "381c56c8-08ed-4afd-92a7-4b1a24d06353",
   "metadata": {},
   "outputs": [
    {
     "name": "stdout",
     "output_type": "stream",
     "text": [
      "[[-2.77555756e-17 -5.00000000e-01 -2.50000000e-01]\n",
      " [-2.00000000e-01  2.00000000e-01 -5.00000000e-02]\n",
      " [ 2.00000000e-01  3.00000000e-01  5.00000000e-02]]\n"
     ]
    }
   ],
   "source": [
    "A = np.array([[1,-2,3],[0,2,2],[-4,-4,-4]])\n",
    "B = np.linalg.inv(A)\n",
    "print(B)"
   ]
  },
  {
   "cell_type": "markdown",
   "id": "06c45311-d523-4ca1-9a9d-e3fee3e4607e",
   "metadata": {
    "tags": []
   },
   "source": [
    "## Solving linear equations\n",
    "\n",
    "### Back substitution\n",
    "\n"
   ]
  },
  {
   "cell_type": "code",
   "execution_count": null,
   "id": "51951b6f-86a3-4081-9046-67acb301f020",
   "metadata": {},
   "outputs": [],
   "source": []
  },
  {
   "cell_type": "markdown",
   "id": "86cab955-f6b9-4292-8962-76e3f0fc3fb2",
   "metadata": {
    "tags": []
   },
   "source": [
    "## WEEK 11 QUIZ"
   ]
  },
  {
   "cell_type": "code",
   "execution_count": 35,
   "id": "d8706e42-b3aa-4797-ac05-2675ca146f26",
   "metadata": {},
   "outputs": [
    {
     "data": {
      "text/plain": [
       "0"
      ]
     },
     "execution_count": 35,
     "metadata": {},
     "output_type": "execute_result"
    }
   ],
   "source": [
    "x = -1\n",
    "y = 3\n",
    "z = 1\n",
    "\n",
    "4*x+y+z"
   ]
  },
  {
   "cell_type": "code",
   "execution_count": 37,
   "id": "908bde46-9d39-4cf1-a402-a752b95892c1",
   "metadata": {},
   "outputs": [
    {
     "data": {
      "text/plain": [
       "12"
      ]
     },
     "execution_count": 37,
     "metadata": {},
     "output_type": "execute_result"
    }
   ],
   "source": [
    "3*x+4*y+3*z"
   ]
  },
  {
   "cell_type": "code",
   "execution_count": 38,
   "id": "b4f16140-4e21-4ffa-9fff-6e6b0a262e32",
   "metadata": {},
   "outputs": [
    {
     "data": {
      "text/plain": [
       "3"
      ]
     },
     "execution_count": 38,
     "metadata": {},
     "output_type": "execute_result"
    }
   ],
   "source": [
    "x+y+z"
   ]
  },
  {
   "cell_type": "code",
   "execution_count": null,
   "id": "0957ab60-d050-4899-bd56-0985e2059767",
   "metadata": {},
   "outputs": [],
   "source": []
  }
 ],
 "metadata": {
  "kernelspec": {
   "display_name": "Python 3 (ipykernel)",
   "language": "python",
   "name": "python3"
  },
  "language_info": {
   "codemirror_mode": {
    "name": "ipython",
    "version": 3
   },
   "file_extension": ".py",
   "mimetype": "text/x-python",
   "name": "python",
   "nbconvert_exporter": "python",
   "pygments_lexer": "ipython3",
   "version": "3.9.6"
  }
 },
 "nbformat": 4,
 "nbformat_minor": 5
}
