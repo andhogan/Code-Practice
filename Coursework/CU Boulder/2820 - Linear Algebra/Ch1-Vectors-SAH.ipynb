{
 "cells": [
  {
   "cell_type": "markdown",
   "id": "d46c0c25-8c50-48b9-b3b6-4fd68ab82a00",
   "metadata": {
    "tags": []
   },
   "source": [
    "### Setup\n",
    "Before we start, we will be importing the **NumPY** package to explore constructing and manipulating vectors and vector data."
   ]
  },
  {
   "cell_type": "code",
   "execution_count": 1,
   "id": "5adae9a6-7db9-4546-9118-02986e4e724f",
   "metadata": {},
   "outputs": [],
   "source": [
    "import numpy as np #import NumPy and declare it using an alias"
   ]
  },
  {
   "cell_type": "markdown",
   "id": "ff169f8e-74b1-4a1b-8c12-ff2a00f3d0e1",
   "metadata": {},
   "source": [
    "## 1.1 Vectors\n",
    "\n",
    "Vectors are essentially ordered list structures in Python. *(VMLS, p.3)*\n",
    "\n",
    "#### List/Vector Basics\n",
    "\n",
    "You can initialize a list with values separated by commas."
   ]
  },
  {
   "cell_type": "code",
   "execution_count": 2,
   "id": "e6fbe189-2570-4403-a888-f03b06b8659b",
   "metadata": {},
   "outputs": [
    {
     "data": {
      "text/plain": [
       "[-1.1, 0.0, 3.6, -7.2]"
      ]
     },
     "execution_count": 2,
     "metadata": {},
     "output_type": "execute_result"
    }
   ],
   "source": [
    "x = [-1.1, 0.0, 3.6, -7.2]   # a list of floats\n",
    "                             # remember to separate by commas, or you will encounter a SyntaxError\n",
    "\n",
    "# List all elements of a list by calling the name of the list:\n",
    "\n",
    "x"
   ]
  },
  {
   "cell_type": "markdown",
   "id": "0ed17fb0-80ab-42c1-82b4-094e6b0125f1",
   "metadata": {},
   "source": [
    "You can find the length of a vector with the **len()** function. *(VMLS Companion, p.2)*"
   ]
  },
  {
   "cell_type": "code",
   "execution_count": 3,
   "id": "83414622-5608-4267-a2f3-bd050c30f80e",
   "metadata": {},
   "outputs": [
    {
     "data": {
      "text/plain": [
       "4"
      ]
     },
     "execution_count": 3,
     "metadata": {},
     "output_type": "execute_result"
    }
   ],
   "source": [
    "len(x)"
   ]
  },
  {
   "cell_type": "markdown",
   "id": "87fdf76f-dfcd-4084-a71e-0c3efa6e4bbc",
   "metadata": {},
   "source": [
    "A more specific way to represent vectors, particularly for use with **NumPy** is to initialize a *numpy array*.\n",
    "\n",
    "The advantage to initializing as a *numpy array* is the ability to use methods and functions within the NumPy library on this vector as well as ordinary list syntax and methods."
   ]
  },
  {
   "cell_type": "code",
   "execution_count": 4,
   "id": "0fed3a28-365e-49c0-82b1-4bd5c2b0795b",
   "metadata": {},
   "outputs": [
    {
     "name": "stdout",
     "output_type": "stream",
     "text": [
      "[-1.1  0.   3.6 -7.2]\n",
      "4\n"
     ]
    }
   ],
   "source": [
    "#import numpy as np\n",
    "x = np.array([-1.1, 0.0, 3.6, -7.2])\n",
    "print(x)\n",
    "print(len(x))"
   ]
  },
  {
   "cell_type": "markdown",
   "id": "f2d74d59-164a-49c8-aec4-7dd77adef3d1",
   "metadata": {},
   "source": [
    "#### Indexing\n",
    "\n",
    "You can access elements within the vector the same way you would a regular list.\n",
    "However, keep in mind that lists/arrays are 0-indexed! \n",
    "*(VMLS Companion, p.3)*\n",
    "\n",
    "Also, notice that numpy arrays do not output with commas separating its values, as traditional vectors are written this way:"
   ]
  },
  {
   "cell_type": "code",
   "execution_count": 5,
   "id": "d63b11a0-4732-4928-ae44-296fa3771fe1",
   "metadata": {},
   "outputs": [
    {
     "name": "stdout",
     "output_type": "stream",
     "text": [
      "[1, 2, 3, 4, 5]\n",
      "[1 2 3 4 5] \n",
      "\n",
      "1\n",
      "1 \n",
      "\n",
      "[ 1  2  3  4 99]\n",
      "[1, 2, 3, 4, 42]\n"
     ]
    }
   ],
   "source": [
    "y = [1, 2, 3, 4, 5]\n",
    "z = np.array([1, 2, 3, 4, 5])\n",
    "\n",
    "print(y) # comma separated values\n",
    "print(z, \"\\n\") # a traditional vector\n",
    "\n",
    "print(y[0]) # accesses and prints the 0th index/1st element\n",
    "print(z[0], \"\\n\")\n",
    "\n",
    "z[4] = 99 # accesses the 4th index/5th element in the array, changes it to 99\n",
    "print(z)\n",
    "y[-1] = 42 # accesses the last element, negative indices count backwards from the last element to the front/first element\n",
    "print(y)"
   ]
  },
  {
   "cell_type": "markdown",
   "id": "91b07915-5a5c-45ac-adc5-486179f86690",
   "metadata": {},
   "source": [
    "#### Assignment versus copying\n",
    "\n",
    "Setting a new variable equal to an existing array does not create a copy of it. \n",
    "*(VMLS Companion, p.3-4)*\n",
    "\n",
    "To create a copy of an array, use the **copy()** method."
   ]
  },
  {
   "cell_type": "code",
   "execution_count": 6,
   "id": "a46d68f0-5bb7-4b2a-bd8c-97bd0cf9de90",
   "metadata": {},
   "outputs": [
    {
     "name": "stdout",
     "output_type": "stream",
     "text": [
      "[-1.1  0.  20.  -7.2]\n",
      "[-1.1  0.  20.  -7.2]\n"
     ]
    }
   ],
   "source": [
    "x = np.array([-1.1,0.0,3.6,-7.2])\n",
    "\n",
    "y = x # Assignment is not the same as copying\n",
    "x[2] = 20.0\n",
    "print(x)\n",
    "print(y)"
   ]
  },
  {
   "cell_type": "code",
   "execution_count": 7,
   "id": "a1e0607e-75af-477d-896b-a70e37c58d60",
   "metadata": {},
   "outputs": [
    {
     "name": "stdout",
     "output_type": "stream",
     "text": [
      "[-1.1  0.  20.  -7.2]\n",
      "[-1.1  0.   3.6 -7.2]\n"
     ]
    },
    {
     "data": {
      "text/plain": [
       "(array([-1.1,  0. , 20. , -7.2]), array([-1.1,  0. ,  3.6, -7.2]))"
      ]
     },
     "execution_count": 7,
     "metadata": {},
     "output_type": "execute_result"
    }
   ],
   "source": [
    "x = np.array([-1.1,0.0,3.6,-7.2])\n",
    "\n",
    "y = x.copy() # Copies the contents of the array x to y\n",
    "x[2] = 20.0\n",
    "print(x)\n",
    "print(y)\n",
    "\n",
    "# or\n",
    "\n",
    "x, y"
   ]
  },
  {
   "cell_type": "markdown",
   "id": "480258cb-bbde-41da-af92-6ebe481af2e7",
   "metadata": {},
   "source": [
    "#### Vector Equality\n",
    "\n",
    "You can check the equality of two vectors using the relational operator **==**\n",
    "\n",
    "Here four evaluations (True or False) are shown because applying relational operator on **numpy array** performs element-wise comparison.  *(VMLS Companion, p.4)*\n",
    "\n",
    "In other words, every *i*th element of one vector is compared to the *i*th element of the other."
   ]
  },
  {
   "cell_type": "code",
   "execution_count": 8,
   "id": "dbf64d90-17de-4b06-be0a-761f3a69cf71",
   "metadata": {},
   "outputs": [
    {
     "data": {
      "text/plain": [
       "array([ True,  True, False,  True])"
      ]
     },
     "execution_count": 8,
     "metadata": {},
     "output_type": "execute_result"
    }
   ],
   "source": [
    "x = np.array([-1.1,0.0,3.6,-7.2])\n",
    "y = x.copy()\n",
    "y[2] = 4.0\n",
    "y==x "
   ]
  },
  {
   "cell_type": "code",
   "execution_count": 9,
   "id": "e782237b-fc74-401d-8f92-9930c9c1bc5c",
   "metadata": {},
   "outputs": [
    {
     "data": {
      "text/plain": [
       "(array([ True, False, False,  True]), array([ True,  True,  True,  True]))"
      ]
     },
     "execution_count": 9,
     "metadata": {},
     "output_type": "execute_result"
    }
   ],
   "source": [
    "z=x.copy()\n",
    "z[1] = 4.0\n",
    "x[1] = 4.0\n",
    "y == x, z == x"
   ]
  },
  {
   "cell_type": "markdown",
   "id": "779a69d0-cd03-4f34-b2e8-97fb26f3a1ad",
   "metadata": {},
   "source": [
    "However, if we apply the relational operator on list structures, the Python expression evaluates to True only when both\n",
    "sides have the same length and identical entries."
   ]
  },
  {
   "cell_type": "code",
   "execution_count": 10,
   "id": "74232048-f6ea-4364-b2e6-e059364013a1",
   "metadata": {},
   "outputs": [
    {
     "data": {
      "text/plain": [
       "True"
      ]
     },
     "execution_count": 10,
     "metadata": {},
     "output_type": "execute_result"
    }
   ],
   "source": [
    "x = [-1.1, 0.0, 3.6, -7.2] \n",
    "y = x.copy()\n",
    "x == y"
   ]
  },
  {
   "cell_type": "code",
   "execution_count": 11,
   "id": "4f75edc4-aae8-406b-987f-a5f082c195be",
   "metadata": {},
   "outputs": [
    {
     "data": {
      "text/plain": [
       "False"
      ]
     },
     "execution_count": 11,
     "metadata": {},
     "output_type": "execute_result"
    }
   ],
   "source": [
    "x = [-1.1, 0.0, 3.6, -7.2] \n",
    "y = x.copy() \n",
    "y[3] = 9.0\n",
    "x == y"
   ]
  },
  {
   "cell_type": "markdown",
   "id": "f179a4e4-09e9-43d4-9d9f-dbfa9ee13950",
   "metadata": {},
   "source": [
    "#### Scalars versus 1-vectors\n",
    "\n",
    "In the VMLS text, 1-vectors are considered scalars. However, in Python notation, these are not the same. *(VMLS Companion, p. 5)*"
   ]
  },
  {
   "cell_type": "code",
   "execution_count": 12,
   "id": "c668f17e-4dfe-4d2f-b2f6-7ff0516126af",
   "metadata": {},
   "outputs": [
    {
     "data": {
      "text/plain": [
       "False"
      ]
     },
     "execution_count": 12,
     "metadata": {},
     "output_type": "execute_result"
    }
   ],
   "source": [
    "x = 2.4 \n",
    "y = [2.4]\n",
    "x == y"
   ]
  },
  {
   "cell_type": "code",
   "execution_count": 13,
   "id": "cd3164aa-9cfd-425f-b7bb-153561ca3f71",
   "metadata": {},
   "outputs": [
    {
     "name": "stdout",
     "output_type": "stream",
     "text": [
      "<class 'float'>\n",
      "<class 'list'>\n"
     ]
    }
   ],
   "source": [
    "print(type(x))\n",
    "print(type(y))"
   ]
  },
  {
   "cell_type": "markdown",
   "id": "936c5cc0-ee69-4816-b7c6-054f35cf1cec",
   "metadata": {},
   "source": [
    "However, this works if we specify it as a NumPy array."
   ]
  },
  {
   "cell_type": "code",
   "execution_count": 14,
   "id": "8fac6ece-f3f6-441f-b3e8-9292a07e0265",
   "metadata": {},
   "outputs": [
    {
     "data": {
      "text/plain": [
       "array([ True])"
      ]
     },
     "execution_count": 14,
     "metadata": {},
     "output_type": "execute_result"
    }
   ],
   "source": [
    "x = 2.4 \n",
    "y = np.array([2.4])\n",
    "x == y"
   ]
  },
  {
   "cell_type": "markdown",
   "id": "cb0b0e98-9b7f-4e89-9f67-714021fdaac3",
   "metadata": {},
   "source": [
    "#### Block and stacked vectors\n",
    "\n",
    "In Python, we can construct a block vector using the numpy function **concatenate()**. \n",
    "*(VMLS Companion, p.6)*\n",
    "\n",
    "The syntax requires an extra set of parentheses, think of this as inserting a tuple of arrays.\n",
    "It does not matter whether you use list structure or NumPy array, here."
   ]
  },
  {
   "cell_type": "code",
   "execution_count": 15,
   "id": "04e1771a-1a61-4214-afb2-1f5868313786",
   "metadata": {},
   "outputs": [
    {
     "name": "stdout",
     "output_type": "stream",
     "text": [
      "[ 1 -2  1  1  0] \n",
      "\n"
     ]
    }
   ],
   "source": [
    "x = [1, -2]\n",
    "y = np.array([1,1,0]) \n",
    "z = np.concatenate((x,y)) # concatenates in order from left to right.\n",
    "print(z, \"\\n\")"
   ]
  },
  {
   "cell_type": "markdown",
   "id": "7d2c4918-0ba3-45ad-9b4e-885fd42a5bb7",
   "metadata": {},
   "source": [
    "A common mistake in Python operations is to try constructing stack vectors using tuple and list syntax incorrectly."
   ]
  },
  {
   "cell_type": "code",
   "execution_count": 16,
   "id": "0617d83a-7ba9-475e-bae6-7244d32ae5e1",
   "metadata": {},
   "outputs": [
    {
     "data": {
      "text/plain": [
       "[[1, -2], array([1, 1, 0])]"
      ]
     },
     "execution_count": 16,
     "metadata": {},
     "output_type": "execute_result"
    }
   ],
   "source": [
    "z = [x, y]\n",
    "z # This method creates a list of a list and a numpy array, and is NOT a stacked vector"
   ]
  },
  {
   "cell_type": "code",
   "execution_count": 17,
   "id": "4b863d75-22e7-44b7-bc58-b3d3330da10c",
   "metadata": {},
   "outputs": [
    {
     "data": {
      "text/plain": [
       "([1, -2], array([1, 1, 0]))"
      ]
     },
     "execution_count": 17,
     "metadata": {},
     "output_type": "execute_result"
    }
   ],
   "source": [
    "z = (x, y)\n",
    "z # This method creates a tuple of a list and a numpy array, and it NOT a stacked vector"
   ]
  },
  {
   "cell_type": "markdown",
   "id": "cc7a6666-55ed-40cf-a29f-a39fb4808646",
   "metadata": {},
   "source": [
    "#### Subvectors and slicing\n",
    "\n",
    "In VMLS, since we index elements in a vector starting at 1, slicing is more readable to the user, but keep in mind that programming arrays, Python lists and NumPy arrays included, are zero-indexed. \n",
    "\n",
    "*(VMLS, p.4)(VMLS Companion, p.6)*"
   ]
  },
  {
   "cell_type": "code",
   "execution_count": 18,
   "id": "6088cda1-302e-4847-a175-a923a856ede2",
   "metadata": {},
   "outputs": [
    {
     "name": "stdout",
     "output_type": "stream",
     "text": [
      "[8 3 2]\n",
      "[  1   8   3 100 200 300   7]\n",
      "[  8   3 100]\n"
     ]
    }
   ],
   "source": [
    "x = np.array([1,8,3,2,1,9,7]) \n",
    "y = x[1:4] # In VMLS, this would be denoted as x_2:4\n",
    "print(y)\n",
    "\n",
    "x[3:6] = [100, 200, 300] # You can also reassign elements using a list\n",
    "print(x)\n",
    "print(y) # Remember, assignment is not the same as copying"
   ]
  },
  {
   "cell_type": "markdown",
   "id": "0f004652-e0c0-4f21-b4dd-8c98a87ce779",
   "metadata": {},
   "source": [
    "#### Vector of First Differences\n",
    "\n",
    "We use slicing to create an *(n-1)*-vector *d* which is defined as the first difference vector. \n",
    "\n",
    "d[i] = x[i+1] − x[i], for i = 1, . . . , n − 1\n",
    "\n",
    "*(VMLS Companion, p.7)*"
   ]
  },
  {
   "cell_type": "code",
   "execution_count": 19,
   "id": "508ebd6f-6bd8-47c3-b434-6b77acd5dd3c",
   "metadata": {},
   "outputs": [
    {
     "name": "stdout",
     "output_type": "stream",
     "text": [
      "[ 7 -5 -1 -1  8 -2]\n",
      "[ 7 -5 -1 -1  8 -2]\n"
     ]
    }
   ],
   "source": [
    "#d = x[2:end] - x[1:end-1]; which gives the vector of differences \n",
    "\n",
    "x = np.array([1,8,3,2,1,9,7]) \n",
    "d = x[1:] - x[:-1]\n",
    "print(d)\n",
    "\n",
    "# You can also use a list comprehension\n",
    "y = x.copy()\n",
    "print(np.array([y[i+1]-y[i] for i in range(len(y)-1)]))"
   ]
  },
  {
   "cell_type": "markdown",
   "id": "6c6276e2-9362-4d2c-858c-964b2641ca5e",
   "metadata": {},
   "source": [
    "#### Zero vectors\n",
    "\n",
    "We can use the NumPy method \"**np.zeros(n)**\" to create an *n* vector filled with zeros.\n",
    "\n",
    "A **zero vector** is a vector with all elements equal to zero. *(VMLS, p.5)*"
   ]
  },
  {
   "cell_type": "code",
   "execution_count": 20,
   "id": "a6da7dab-573d-47fc-86b0-1100baf66670",
   "metadata": {},
   "outputs": [
    {
     "data": {
      "text/plain": [
       "array([0., 0., 0.])"
      ]
     },
     "execution_count": 20,
     "metadata": {},
     "output_type": "execute_result"
    }
   ],
   "source": [
    "zero = np.zeros(3)\n",
    "zero"
   ]
  },
  {
   "cell_type": "markdown",
   "id": "d6742461-33b0-4dbd-a9d3-ad91fccfdfaf",
   "metadata": {
    "tags": []
   },
   "source": [
    "#### Ones vector\n",
    "\n",
    "We can use the NumPy method \"**np.ones(n)**\" to create an *n* vector filled with ones.\n",
    "\n",
    "A **ones vector** is a vector with all elements equal to one. *(VMLS, p.6)*"
   ]
  },
  {
   "cell_type": "code",
   "execution_count": 21,
   "id": "ba7a0d14-b2ad-4fd0-b6c1-cde4a55bb58c",
   "metadata": {},
   "outputs": [
    {
     "data": {
      "text/plain": [
       "array([1., 1., 1.])"
      ]
     },
     "execution_count": 21,
     "metadata": {},
     "output_type": "execute_result"
    }
   ],
   "source": [
    "ones = np.ones(3)\n",
    "ones"
   ]
  },
  {
   "cell_type": "markdown",
   "id": "22f03d2e-161a-4372-af66-2bcd0c1199b4",
   "metadata": {},
   "source": [
    "#### Random vectors\n",
    "\n",
    "We can generate random vectors as well. *(VMLS Companion, p.9)*"
   ]
  },
  {
   "cell_type": "code",
   "execution_count": 22,
   "id": "cad49c9b-e98c-4332-a243-4253eb0dfb62",
   "metadata": {},
   "outputs": [
    {
     "data": {
      "text/plain": [
       "array([0.28954959, 0.79362835])"
      ]
     },
     "execution_count": 22,
     "metadata": {},
     "output_type": "execute_result"
    }
   ],
   "source": [
    "np.random.random(2)"
   ]
  },
  {
   "cell_type": "markdown",
   "id": "2e635bce-8ff0-4611-9a7a-0615bd982e48",
   "metadata": {},
   "source": [
    "#### Unit Vectors\n",
    "\n",
    "We can create *ei*, the *i*th unit vector of length *n* using index.\n",
    "\n",
    "A **unit vector** is a vector in which all elements equal zero, except for one element that is equal to one. *(VMLS, p.5)*\n",
    "\n",
    "This *i*th unit vector has a one at the *i*th element, and is denoted as *ei*"
   ]
  },
  {
   "cell_type": "code",
   "execution_count": 23,
   "id": "c4f230b8-5704-449e-8597-558270666060",
   "metadata": {},
   "outputs": [
    {
     "name": "stdout",
     "output_type": "stream",
     "text": [
      "[0. 0. 1. 0.]\n"
     ]
    }
   ],
   "source": [
    "i = 2 \n",
    "n = 4 \n",
    "x = np.zeros(n)\n",
    "x[i] = 1\n",
    "print(x)"
   ]
  },
  {
   "cell_type": "markdown",
   "id": "4273b1d4-cc54-4c39-bcd7-ab649fc0df5a",
   "metadata": {},
   "source": [
    "## Plotting\n",
    "\n",
    "Plenty of Python libraries allow the ability to create plots from vectors.\n",
    "\n",
    "**matplotlib** is one such library, and we really only need the **pyplot** method. *(VMLS Companion, p. 9)*"
   ]
  },
  {
   "cell_type": "code",
   "execution_count": 24,
   "id": "a1f6540b-af17-4519-89df-07064eea87c8",
   "metadata": {},
   "outputs": [
    {
     "data": {
      "image/png": "[encoded data removed]",
      "text/plain": [
       "<Figure size 432x288 with 1 Axes>"
      ]
     },
     "metadata": {
      "needs_background": "light"
     },
     "output_type": "display_data"
    }
   ],
   "source": [
    "import matplotlib.pyplot as plt \n",
    "plt.ion() \n",
    "temps = [ 71, 71, 68, 69, 68, 69, 68, 74, 77, 82, 85, 86, 88, 86, 85, 86, 84, 79, 77, 75, 73, 71, 70, 70, 69, 69, 69, 69, 67, 68, 68, 73, 76, 77, 82, 84, 84, 81, 80, 78, 79, 78, 73, 72, 70, 70, 68, 67 ]\n",
    "plt.plot(temps, '-bo') # \"-bo\" is an option that indicates plotting with line (-) with a circle marker (o) in blue (b)\n",
    "plt.show()"
   ]
  },
  {
   "cell_type": "markdown",
   "id": "4f3f9c08-a918-45e1-9bb7-e3202d34b8b5",
   "metadata": {},
   "source": [
    "## 1.2 Vector addition\n",
    "\n",
    "#### Vector addition and subtraction\n",
    "\n",
    "Two vectors of the same size can be added together or subtracted one from the other. *(VMLS, p.11)*\n",
    "\n",
    "If *x* and *y* are numpy arrays **of the same size**, *x + y* and *x - y* provide the sum and difference. *(VMLS Companion, p. 10)*"
   ]
  },
  {
   "cell_type": "code",
   "execution_count": 25,
   "id": "74f778e3-24f0-4c43-8e7c-52277b55ddbf",
   "metadata": {},
   "outputs": [
    {
     "name": "stdout",
     "output_type": "stream",
     "text": [
      "Sum of arrays: [101 202 303]\n",
      "Difference of arrays: [ -99 -198 -297]\n"
     ]
    }
   ],
   "source": [
    "#import numpy as np\n",
    "x = np.array([1,2,3]) \n",
    "y = np.array([100,200,300]) \n",
    "print('Sum of arrays:', x+y)\n",
    "print('Difference of arrays:', x-y)"
   ]
  },
  {
   "cell_type": "markdown",
   "id": "d11ecd9b-cc13-41c2-a376-e9b4260193ee",
   "metadata": {},
   "source": [
    "## 1.3 Scalar-vector multiplication\n",
    "\n",
    "#### Scalar-vector multipliction and division\n",
    "\n",
    "Scalar-vector multiplication is accompliished by multiplying all elements in a vector by a scalar (i.e. another number). Division is the same way. *(VMLS, p. 15)*"
   ]
  },
  {
   "cell_type": "code",
   "execution_count": 26,
   "id": "0f648a58-b0f7-4333-b0c8-f8c8ef5b512e",
   "metadata": {},
   "outputs": [
    {
     "name": "stdout",
     "output_type": "stream",
     "text": [
      "[ 4 10 20]\n",
      "[1.  2.5 5. ]\n"
     ]
    }
   ],
   "source": [
    "# Multiplication\n",
    "x = np.array([2, 5, 10])\n",
    "print(x*2)\n",
    "\n",
    "#Division -- Remember that integer division, if both num and den are integers, will return an integer as well.\n",
    "print(x/2)"
   ]
  },
  {
   "cell_type": "markdown",
   "id": "53d5eef3-9bc7-4e67-b82d-73c78fcb319e",
   "metadata": {},
   "source": [
    "#### Scalar-vector addition\n",
    "\n",
    "We can add a scalar to each element in an array, but keep in mind that this is *not* standard mathematical notation. *(VMLS, p.16)*\n",
    "\n",
    "In Python, we would write this as *(x + a)*, where *a* is a scalar but standard notation would be *x + a**1***, as we are multiplying a ones vector by the scalar and then adding each to the original vector. \n",
    "\n",
    "*(VMLS Companion, p.11)*"
   ]
  },
  {
   "cell_type": "code",
   "execution_count": 27,
   "id": "bdc3e881-67c0-4e91-8d68-992fe9ed6273",
   "metadata": {},
   "outputs": [
    {
     "name": "stdout",
     "output_type": "stream",
     "text": [
      "[3 4 5 6]\n"
     ]
    }
   ],
   "source": [
    "x = np.array([1,2,3,4]) \n",
    "print(x + 2)"
   ]
  },
  {
   "cell_type": "markdown",
   "id": "be9d0df6-e63c-48bc-8f09-909cdfeb9b2e",
   "metadata": {},
   "source": [
    "#### Elementwise Operations\n",
    "\n",
    "For arrays of the same size, we can perform the expressions *x * y*, *x / y*, and *x**y* to produce vectors of the same length. *(VMLS Companion, p.11-12)*"
   ]
  },
  {
   "cell_type": "code",
   "execution_count": 28,
   "id": "73cfe1f9-d830-4beb-89b1-ed0d99b08a86",
   "metadata": {},
   "outputs": [
    {
     "name": "stdout",
     "output_type": "stream",
     "text": [
      "[ 2  8 18 32 50]\n",
      "[0.5 0.5 0.5 0.5 0.5]\n",
      "[      1      16     729   65536 9765625]\n"
     ]
    }
   ],
   "source": [
    "x = np.array([1, 2, 3, 4, 5])\n",
    "y = np.array([2, 4, 6, 8, 10])\n",
    "\n",
    "print(x * y)\n",
    "print(x / y)\n",
    "print(x **y)"
   ]
  },
  {
   "cell_type": "markdown",
   "id": "11b894b3-0f6e-41e6-8c26-98ca5b7fd733",
   "metadata": {},
   "source": [
    "#### Linear Combination\n",
    "\n",
    "A linear combination of vectors multiplied by their scalars yields a ***linear combination*** of those vectors. *(VMLS, p.17)*\n",
    "\n",
    "Notice that multiplication by scalars occurs first before the addition of the vectors."
   ]
  },
  {
   "cell_type": "code",
   "execution_count": 29,
   "id": "b5ed9e47-b3d4-4cdd-883a-80f235a9a60c",
   "metadata": {},
   "outputs": [
    {
     "name": "stdout",
     "output_type": "stream",
     "text": [
      "[4. 5.]\n"
     ]
    }
   ],
   "source": [
    "a = np.array([1,2]) \n",
    "b = np.array([3,4]) \n",
    "alpha = -0.5 \n",
    "beta = 1.5 \n",
    "c = alpha*a + beta*b\n",
    "print(c)"
   ]
  },
  {
   "cell_type": "markdown",
   "id": "42646a6d-1e26-4828-a8be-8239e4ba67b5",
   "metadata": {},
   "source": [
    "The VMLS Python Companion also details a function that easily calculates a linear combination when offered a list of coefficients and a list of vectors as input:\n",
    "\n",
    "*(VMLS Companion, p.12-13)*"
   ]
  },
  {
   "cell_type": "code",
   "execution_count": 30,
   "id": "b45460b3-72fb-47ad-b101-f9332ef6d707",
   "metadata": {
    "tags": []
   },
   "outputs": [
    {
     "data": {
      "text/plain": [
       "array([4., 5.])"
      ]
     },
     "execution_count": 30,
     "metadata": {},
     "output_type": "execute_result"
    }
   ],
   "source": [
    "def lincomb(coef, vectors): \n",
    "    n = len(vectors[0]) \n",
    "    comb = np.zeros(n) \n",
    "    for i in range(len(vectors)): \n",
    "        comb = comb + coef[i] * vectors[i]\n",
    "    return comb\n",
    "\n",
    "a = np.array([1,2]) \n",
    "b = np.array([3,4]) \n",
    "alpha = -0.5 \n",
    "beta = 1.5 \n",
    "\n",
    "coeffs = np.array([alpha, beta]) # turn these into lists for the linear combination\n",
    "vector = np.array([a, b])\n",
    "\n",
    "lincomb(coeffs, vector)"
   ]
  },
  {
   "cell_type": "markdown",
   "id": "cd51515a-206f-4b43-93f6-7463e3aea9d9",
   "metadata": {},
   "source": [
    "###### Extra\n",
    "\n",
    "The **lincomb**  can also be defined using a list comprehenion *(VMLS Companion, p. 13)*"
   ]
  },
  {
   "cell_type": "code",
   "execution_count": 31,
   "id": "9f298274-a6e1-46ad-a090-250c860aecc7",
   "metadata": {},
   "outputs": [],
   "source": [
    "def lincomb(coef, vectors): \n",
    "    return sum(coef[i]*vectors[i] for i in range(len(vectors)))"
   ]
  },
  {
   "cell_type": "markdown",
   "id": "bc252584-d22c-4366-8721-6202fef22df0",
   "metadata": {},
   "source": [
    "#### Checking properties\n",
    "\n",
    "Due to the nature of round-off error when calculating with floating point values, it's important that we understand how the distributive property works. *(VMLS Companion, p.13)*\n",
    "\n",
    "We can use the **lincomb** function defined above to make this check:\n",
    "\n",
    "Left-hand Side (LHS) = Right-hand Side (RHS)\n",
    "\n",
    "beta * (a + b) = beta * a + beta * b"
   ]
  },
  {
   "cell_type": "code",
   "execution_count": 32,
   "id": "c954b6ff-3b47-4e5d-982f-893dcc2323ec",
   "metadata": {},
   "outputs": [
    {
     "name": "stdout",
     "output_type": "stream",
     "text": [
      "a : [1 3 5]\n",
      "b : [2 4 6]\n",
      "beta : 0.34316697266965934\n",
      "LHS : [1.02950092 2.40216881 3.7748367 ]\n",
      "RHS : [1.02950092 2.40216881 3.7748367 ] \n",
      "\n",
      "[ True  True  True]\n"
     ]
    }
   ],
   "source": [
    "a = np.array([1, 3, 5])\n",
    "b = np.array([2, 4, 6])\n",
    "beta = np.random.random() \n",
    "lhs = beta*(a+b) \n",
    "rhs = beta*a + beta*b \n",
    "print('a :', a) \n",
    "print('b :', b) \n",
    "print('beta :', beta)\n",
    "print('LHS :', lhs)\n",
    "print('RHS :', rhs, \"\\n\")\n",
    "\n",
    "print(lhs == rhs)"
   ]
  },
  {
   "cell_type": "markdown",
   "id": "f46ef077-2a5f-4ebb-849f-b3efef4a53ae",
   "metadata": {},
   "source": [
    "## 1.4 Inner Product\n",
    "\n",
    "The **inner product** (aka *dot product*) of *n*-vectors *x* and *y* is the sum of the products of corresponding entries. It is denoted as ***xTy***. *(VMLS, p.19)* *(VMLS Companion, p.14)*\n",
    "\n",
    "NumPy has a function that determines the inner product of two arrays of the same size: **inner()**."
   ]
  },
  {
   "cell_type": "code",
   "execution_count": 33,
   "id": "bb5d94a9-94a0-405b-9183-cceb43331c24",
   "metadata": {},
   "outputs": [
    {
     "name": "stdout",
     "output_type": "stream",
     "text": [
      "-7\n"
     ]
    }
   ],
   "source": [
    "x = np.array([-1,2,2]) \n",
    "y = np.array([1,0,-3])\n",
    "\n",
    "# (-1)(1) + (2)(0) + (2)(-3) = -7\n",
    "\n",
    "print(np.inner(x,y))"
   ]
  },
  {
   "cell_type": "markdown",
   "id": "15c15bea-000e-4cfb-9f1b-50cb08d3a3d6",
   "metadata": {},
   "source": [
    "Alternatively, the 'at' **@** operator can be used to perform the inner product on NumPy arrays. (VMLS Companion, p.14)*"
   ]
  },
  {
   "cell_type": "code",
   "execution_count": 34,
   "id": "9ba49380-c669-4f91-9312-55cf2e751d89",
   "metadata": {},
   "outputs": [
    {
     "data": {
      "text/plain": [
       "-7"
      ]
     },
     "execution_count": 34,
     "metadata": {},
     "output_type": "execute_result"
    }
   ],
   "source": [
    "x @ y"
   ]
  },
  {
   "cell_type": "markdown",
   "id": "1a7761ce-40be-4dc9-92ac-25bce307ea5c",
   "metadata": {
    "tags": []
   },
   "source": [
    "#### Net present value\n",
    "\n",
    "The **net present value (NPV)** is defined as the discounted total of cash flow with an interest rate. *(VMLS p. 22)*\n",
    "\n",
    "Code source: *(VMLS Companion, p. 14)*"
   ]
  },
  {
   "cell_type": "code",
   "execution_count": 35,
   "id": "4162137d-5faa-4e91-b4af-ae54b267c4de",
   "metadata": {},
   "outputs": [
    {
     "name": "stdout",
     "output_type": "stream",
     "text": [
      "1.236162401468524\n"
     ]
    }
   ],
   "source": [
    "c = np.array([0.1,0.1,0.1,1.1]) #cash flow vector \n",
    "n = len(c) \n",
    "r = 0.05 #5% per-period interest rate \n",
    "d = np.array([(1+r)**-i for i in range(n)]) # raise the scalar 1=r element-wise to the powers given in range(n) (0, 1, 2, ..., n-1).\n",
    "                                            # This is a list comprehension\n",
    "NPV = c @ d\n",
    "print(NPV)"
   ]
  },
  {
   "cell_type": "markdown",
   "id": "756b47c3-921f-499b-9093-0a0f90358d26",
   "metadata": {
    "tags": []
   },
   "source": [
    "#### Total school-age population\n",
    "\n",
    "The companion details an example of a 100-vector that gives the age distribution of a town of ages between 0-99. *(VMLS Companion, p. 14-15)*\n",
    "\n",
    "If we wanted to find the number of individuals between the ages of 5-18 (inclusive), we can find the dot product of those elements in the age vector indicating that range using another **stacked block vector** vector of zeroes and ones: ones indicating the number of ages within our range and zeros of those we do not want to compute.\n"
   ]
  },
  {
   "cell_type": "code",
   "execution_count": 37,
   "id": "0a5ec79a-447f-4910-b051-c46779359a8c",
   "metadata": {},
   "outputs": [],
   "source": [
    "s = np.concatenate([np.zeros(5), np.ones(14), np.zeros(81)]) # Here, we design a sparse array that picks out the range of ages between 5-18 by zeroing out ages 0-4 \n",
    "                                                             # (using the first 5 indices) as well as ages 19 through to the end of the array\n",
    "x = None # x would ideally be an array of the population metrics that tracks the number of people of each age (the 0th index would be all newborns, the 18th index all 18 year olds, etc.)\n",
    "#school_age_pop = s @ x  \n",
    "\n",
    "# once we had our data and our block vector of 0's and 1's, we could calculate the total number of people in a population that are in K-12 by finding the dot product of the population data with the stacked vector \"s\""
   ]
  }
 ],
 "metadata": {
  "kernelspec": {
   "display_name": "Python 3 (ipykernel)",
   "language": "python",
   "name": "python3"
  },
  "language_info": {
   "codemirror_mode": {
    "name": "ipython",
    "version": 3
   },
   "file_extension": ".py",
   "mimetype": "text/x-python",
   "name": "python",
   "nbconvert_exporter": "python",
   "pygments_lexer": "ipython3",
   "version": "3.9.6"
  }
 },
 "nbformat": 4,
 "nbformat_minor": 5
}
